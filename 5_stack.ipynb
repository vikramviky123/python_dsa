{
 "cells": [
  {
   "cell_type": "markdown",
   "metadata": {},
   "source": [
    "![Alt text](image-1.png)"
   ]
  },
  {
   "cell_type": "code",
   "execution_count": 65,
   "metadata": {},
   "outputs": [],
   "source": [
    "class Stack:\n",
    "    def __init__(self, maxSize = None):\n",
    "        self.maxSize = maxSize\n",
    "        self.list = []\n",
    "        \n",
    "    def __str__(self):\n",
    "        values = self.list.reverse()\n",
    "        values = [str(x) for x in self.list]\n",
    "        return \"\\n\".join(values)\n",
    "    \n",
    "    def isEmpty(self):\n",
    "        if self.list == None:\n",
    "            return True\n",
    "        else:\n",
    "            return False\n",
    "        \n",
    "    def isFull(self):\n",
    "        if self.maxSize is not None:\n",
    "            if len(self.list) >= self.maxSize:\n",
    "                return True\n",
    "            else:\n",
    "                return False\n",
    "            \n",
    "    def push(self,value):\n",
    "        if self.maxSize is not None:\n",
    "            if self.isFull():\n",
    "                return \"Stack is FULL\"\n",
    "            else:\n",
    "                self.list.append(value)\n",
    "                \n",
    "        else:\n",
    "            self.list.append(value)\n",
    "            \n",
    "    def pop(self):\n",
    "        if self.isEmpty():\n",
    "            return \"Stack is Empty\"\n",
    "        else:\n",
    "            return self.list.pop()            \n",
    "    def peek(self):\n",
    "        if self.isEmpty():\n",
    "            return \"Stack is Empty\"\n",
    "        else:\n",
    "            return self.list[-1]            \n",
    "    def delete(self):\n",
    "        if self.isEmpty():\n",
    "            return \"Stack is Empty\"\n",
    "        else:\n",
    "            self.list = []\n",
    "                    "
   ]
  },
  {
   "cell_type": "code",
   "execution_count": 66,
   "metadata": {},
   "outputs": [
    {
     "name": "stdout",
     "output_type": "stream",
     "text": [
      "False\n",
      "False\n",
      "40\n",
      "30\n",
      "20\n",
      "10\n",
      "[40, 30, 20, 10]\n"
     ]
    }
   ],
   "source": [
    "cusStack = Stack(4)\n",
    "print(cusStack.isEmpty())\n",
    "print(cusStack.isFull())\n",
    "cusStack.push(10)\n",
    "cusStack.push(20)\n",
    "cusStack.push(30)\n",
    "cusStack.push(40)\n",
    "print(cusStack)\n",
    "print(cusStack.list)"
   ]
  },
  {
   "cell_type": "code",
   "execution_count": 67,
   "metadata": {},
   "outputs": [
    {
     "data": {
      "text/plain": [
       "'Stack is FULL'"
      ]
     },
     "execution_count": 67,
     "metadata": {},
     "output_type": "execute_result"
    }
   ],
   "source": [
    "cusStack.push(60)"
   ]
  },
  {
   "cell_type": "code",
   "execution_count": 68,
   "metadata": {},
   "outputs": [
    {
     "name": "stdout",
     "output_type": "stream",
     "text": [
      "[40, 30, 20]\n"
     ]
    }
   ],
   "source": [
    "cusStack.pop()\n",
    "print(cusStack.list)"
   ]
  },
  {
   "cell_type": "code",
   "execution_count": 69,
   "metadata": {},
   "outputs": [
    {
     "name": "stdout",
     "output_type": "stream",
     "text": [
      "20\n"
     ]
    }
   ],
   "source": [
    "\n",
    "print(cusStack.peek())"
   ]
  },
  {
   "cell_type": "code",
   "execution_count": 71,
   "metadata": {},
   "outputs": [
    {
     "name": "stdout",
     "output_type": "stream",
     "text": [
      "[]\n"
     ]
    }
   ],
   "source": [
    "cusStack.delete()\n",
    "print(cusStack.list)"
   ]
  },
  {
   "cell_type": "code",
   "execution_count": 128,
   "metadata": {},
   "outputs": [],
   "source": [
    "class Node:\n",
    "    def __init__(self,data):\n",
    "        self.data = data\n",
    "        self.next = None\n",
    "\n",
    "class LinkedList:\n",
    "    def __init__(self):\n",
    "        self.head = None\n",
    "        \n",
    "    def __iter__(self):\n",
    "        curr_node = self.head\n",
    "        while curr_node:\n",
    "            yield curr_node\n",
    "            curr_node = curr_node.next\n",
    "\n",
    "\n",
    "class Stack:\n",
    "    def __init__(self):\n",
    "        self.ll = LinkedList()  \n",
    "        \n",
    "    def __str__(self):\n",
    "        values = [str(x.data) for x in self.ll]\n",
    "        return \"\\n\".join(values)  \n",
    "    \n",
    "    def isEmpty(self):\n",
    "        if self.ll.head == None:\n",
    "            return True\n",
    "        else:\n",
    "            return False   \n",
    "        \n",
    "    def push(self, value):\n",
    "        node = Node(value)   \n",
    "        node.next = self.ll.head\n",
    "        self.ll.head = node\n",
    "            \n",
    "   \n",
    "                "
   ]
  },
  {
   "cell_type": "code",
   "execution_count": 129,
   "metadata": {},
   "outputs": [],
   "source": [
    "customStack = Stack()\n",
    "customStack.push(10)\n",
    "customStack.push(20)\n",
    "customStack.push(30)"
   ]
  },
  {
   "cell_type": "code",
   "execution_count": 130,
   "metadata": {},
   "outputs": [
    {
     "name": "stdout",
     "output_type": "stream",
     "text": [
      "30\n",
      "20\n",
      "10\n"
     ]
    }
   ],
   "source": [
    "print(customStack)"
   ]
  },
  {
   "cell_type": "code",
   "execution_count": null,
   "metadata": {},
   "outputs": [],
   "source": []
  },
  {
   "cell_type": "code",
   "execution_count": null,
   "metadata": {},
   "outputs": [],
   "source": []
  },
  {
   "cell_type": "code",
   "execution_count": null,
   "metadata": {},
   "outputs": [],
   "source": []
  }
 ],
 "metadata": {
  "kernelspec": {
   "display_name": "Python 3",
   "language": "python",
   "name": "python3"
  },
  "language_info": {
   "codemirror_mode": {
    "name": "ipython",
    "version": 3
   },
   "file_extension": ".py",
   "mimetype": "text/x-python",
   "name": "python",
   "nbconvert_exporter": "python",
   "pygments_lexer": "ipython3",
   "version": "3.9.13"
  },
  "orig_nbformat": 4
 },
 "nbformat": 4,
 "nbformat_minor": 2
}
