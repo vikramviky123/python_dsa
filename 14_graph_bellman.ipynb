{
 "cells": [
  {
   "cell_type": "markdown",
   "metadata": {},
   "source": [
    "#### Bellman Ford\n",
    "single source shortest path"
   ]
  },
  {
   "cell_type": "code",
   "execution_count": 1,
   "metadata": {},
   "outputs": [],
   "source": [
    "class Graph:\n",
    "    def __init__(self, vertices):\n",
    "        self.V = vertices\n",
    "        self.graph = []\n",
    "        self.nodes = []\n",
    "\n",
    "    def add_edge(self, s, d, w):\n",
    "        self.graph.append([s, d, w])\n",
    "\n",
    "    def add_node(self, value):\n",
    "        self.nodes.append(value)\n",
    "        \n",
    "    def print_solution(self, dist):\n",
    "        print(\"Vertex Distance from Source\")\n",
    "        \n",
    "        for key, value in dist.items():\n",
    "            print(\" \" + key, \" :  \",value)\n",
    "\n",
    "    def bellman_ford(self, src):\n",
    "        # Initialize distances from the source to all vertices as infinity\n",
    "        dist = {i : float(\"inf\") for i in self.nodes}\n",
    "        dist[src] = 0\n",
    "\n",
    "        # Relax all edges |V| - 1 times\n",
    "        for _ in range(self.V - 1):\n",
    "            for s, d, w in self.graph:\n",
    "                if dist[s] != float(\"inf\") and dist[s] + w < dist[d]:\n",
    "                    dist[d] = dist[s] + w\n",
    "\n",
    "        # Check for negative weight cycles\n",
    "        for s, d, w in self.graph:\n",
    "            if dist[s] != float(\"inf\") and dist[s] + w < dist[d]:\n",
    "                print(\"Graph contains negative weight cycle\")\n",
    "                return\n",
    "            \n",
    "        self.print_solution(dist)\n"
   ]
  },
  {
   "cell_type": "code",
   "execution_count": 2,
   "metadata": {},
   "outputs": [],
   "source": [
    "# Example usage\n",
    "g = Graph(5)\n",
    "g.add_node(\"A\")\n",
    "g.add_node(\"B\")\n",
    "g.add_node(\"C\")\n",
    "g.add_node(\"D\")\n",
    "g.add_node(\"E\")\n",
    "g.add_edge(\"A\",\"C\",6)\n",
    "g.add_edge(\"A\",\"D\",6)\n",
    "g.add_edge(\"B\",\"A\",3)\n",
    "g.add_edge(\"C\",\"D\",1)\n",
    "g.add_edge(\"D\",\"C\",2)\n",
    "g.add_edge(\"D\",\"B\",1)\n",
    "g.add_edge(\"E\",\"B\",4)\n",
    "g.add_edge(\"E\",\"D\",2)\n"
   ]
  },
  {
   "cell_type": "code",
   "execution_count": 4,
   "metadata": {},
   "outputs": [
    {
     "name": "stdout",
     "output_type": "stream",
     "text": [
      "Vertex Distance from Source\n",
      " A  :   6\n",
      " B  :   3\n",
      " C  :   4\n",
      " D  :   2\n",
      " E  :   0\n"
     ]
    }
   ],
   "source": [
    "g.bellman_ford(\"E\")"
   ]
  },
  {
   "cell_type": "code",
   "execution_count": null,
   "metadata": {},
   "outputs": [],
   "source": []
  }
 ],
 "metadata": {
  "kernelspec": {
   "display_name": "Python 3",
   "language": "python",
   "name": "python3"
  },
  "language_info": {
   "codemirror_mode": {
    "name": "ipython",
    "version": 3
   },
   "file_extension": ".py",
   "mimetype": "text/x-python",
   "name": "python",
   "nbconvert_exporter": "python",
   "pygments_lexer": "ipython3",
   "version": "3.9.13"
  },
  "orig_nbformat": 4
 },
 "nbformat": 4,
 "nbformat_minor": 2
}
