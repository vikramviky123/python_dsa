{
 "cells": [
  {
   "cell_type": "code",
   "execution_count": 23,
   "metadata": {},
   "outputs": [],
   "source": [
    "class Node:\n",
    "    def __init__(self,value):\n",
    "        self.value = value\n",
    "        self.prev = None\n",
    "        self.next = None\n",
    "        \n",
    "class DoubleLinkedList(object):\n",
    "    def __init__(self):\n",
    "        self.head = None\n",
    "        self.tail = None\n",
    "        \n",
    "    def __iter__(self):\n",
    "        node = self.head\n",
    "        \n",
    "        while node:\n",
    "            yield node.value            \n",
    "            node =node.next\n",
    "            if node is None:\n",
    "                break\n",
    "            \n",
    "    def insert_dll(self,nodeValue,location):\n",
    "        node = Node(nodeValue)\n",
    "        if self.head is None:\n",
    "            self.head = node\n",
    "            self.head.prev = None\n",
    "            self.head.next = None\n",
    "            self.tail = node\n",
    "            \n",
    "        elif location ==0:\n",
    "            temp_node = self.head\n",
    "            \n",
    "            self.head = node\n",
    "            self.head.prev = None\n",
    "            self.head.next = temp_node\n",
    "            \n",
    "        elif location == 1:\n",
    "            self.tail.next = node\n",
    "            self.tail.next.next = None\n",
    "            self.tail.next.prev = self.tail\n",
    "            \n",
    "            self.tail = node\n",
    "            \n",
    "        else:\n",
    "            curr_node = self.head\n",
    "            index = 0\n",
    "            \n",
    "            while index < location -1:\n",
    "                curr_node = curr_node.next\n",
    "                index+=1\n",
    "                \n",
    "            temp_node = curr_node.next\n",
    "            curr_node.next = node\n",
    "            curr_node.next.prev = curr_node\n",
    "            curr_node.next.next = temp_node\n",
    "            \n",
    "            temp_node.prev = node"
   ]
  },
  {
   "cell_type": "code",
   "execution_count": 24,
   "metadata": {},
   "outputs": [
    {
     "name": "stdout",
     "output_type": "stream",
     "text": [
      "[10, 20, 30]\n"
     ]
    }
   ],
   "source": [
    "n1 = Node(10)\n",
    "n2 = Node(20)\n",
    "n3 = Node(30)\n",
    "\n",
    "dll = DoubleLinkedList()\n",
    "#-------for n1\n",
    "dll.head = n1\n",
    "dll.head.prev = None\n",
    "dll.head.next = n2\n",
    "#-------for n2\n",
    "dll.head.next.prev = n1\n",
    "dll.head.next.next = n3\n",
    "#-------for n3\n",
    "dll.head.next.next.prev = n2\n",
    "dll.head.next.next.next = None\n",
    "print([node for node in dll])"
   ]
  },
  {
   "cell_type": "code",
   "execution_count": 25,
   "metadata": {},
   "outputs": [
    {
     "name": "stdout",
     "output_type": "stream",
     "text": [
      "prev ref :  None | data is :  10 | next ref :  <__main__.Node object at 0x0000020F53851310>\n",
      "prev ref :  <__main__.Node object at 0x0000020F53851970> | data is :  20 | next ref :  <__main__.Node object at 0x0000020F538512B0>\n",
      "prev ref :  <__main__.Node object at 0x0000020F53851310> | data is :  30 | next ref :  None\n"
     ]
    }
   ],
   "source": [
    "print(\"prev ref : \",n1.prev,\"| data is : \",n1.value,\"| next ref : \",n1.next)\n",
    "print(\"prev ref : \",n2.prev,\"| data is : \",n2.value,\"| next ref : \",n2.next)\n",
    "print(\"prev ref : \",n3.prev,\"| data is : \",n3.value,\"| next ref : \",n3.next)\n"
   ]
  },
  {
   "cell_type": "code",
   "execution_count": 27,
   "metadata": {},
   "outputs": [
    {
     "name": "stdout",
     "output_type": "stream",
     "text": [
      "[10, 20, 30, 40, 50]\n",
      "[10, 20, 250, 30, 40, 50]\n"
     ]
    }
   ],
   "source": [
    "dll = DoubleLinkedList()\n",
    "dll.insert_dll(10,1)\n",
    "dll.insert_dll(20,1)\n",
    "dll.insert_dll(30,1)\n",
    "dll.insert_dll(40,1)\n",
    "dll.insert_dll(50,1)\n",
    "print([node for node in dll])\n",
    "dll.insert_dll(250,2)\n",
    "print([node for node in dll])\n",
    "\n"
   ]
  },
  {
   "cell_type": "code",
   "execution_count": null,
   "metadata": {},
   "outputs": [],
   "source": []
  }
 ],
 "metadata": {
  "kernelspec": {
   "display_name": "Python 3",
   "language": "python",
   "name": "python3"
  },
  "language_info": {
   "codemirror_mode": {
    "name": "ipython",
    "version": 3
   },
   "file_extension": ".py",
   "mimetype": "text/x-python",
   "name": "python",
   "nbconvert_exporter": "python",
   "pygments_lexer": "ipython3",
   "version": "3.9.13"
  },
  "orig_nbformat": 4
 },
 "nbformat": 4,
 "nbformat_minor": 2
}
