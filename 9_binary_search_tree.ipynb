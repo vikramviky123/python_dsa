{
 "cells": [
  {
   "cell_type": "code",
   "execution_count": 5,
   "metadata": {},
   "outputs": [],
   "source": [
    "\n",
    "import numpy\n",
    "import QueueLinkedList as queue\n",
    "import sys"
   ]
  },
  {
   "cell_type": "code",
   "execution_count": 6,
   "metadata": {},
   "outputs": [],
   "source": [
    "\n",
    "\n",
    "class BST:\n",
    "    def __init__(self,data):\n",
    "        self.data = data\n",
    "        self.leftChild = None\n",
    "        self.rightChild = None\n",
    "        \n",
    "def insert_node(rootNode,nodeValue):\n",
    "    if rootNode.data == None:\n",
    "        rootNode.data = nodeValue\n",
    "        \n",
    "    elif nodeValue <= rootNode.data:\n",
    "        if rootNode.leftChild is None:\n",
    "            rootNode.leftChild = BST(nodeValue)\n",
    "        else:\n",
    "            insert_node(rootNode.leftChild,nodeValue)\n",
    "            \n",
    "    else:\n",
    "        if rootNode.rightChild is None:\n",
    "            rootNode.rightChild = BST(nodeValue)\n",
    "        else:\n",
    "            insert_node(rootNode.rightChild,nodeValue)\n",
    "            \n",
    "def preOrderTraversal(rootNode):\n",
    "    if rootNode is None:\n",
    "        return\n",
    "    else:\n",
    "        print(rootNode.data)\n",
    "        preOrderTraversal(rootNode.leftChild)\n",
    "        preOrderTraversal(rootNode.rightChild)\n",
    "        \n",
    "def inOrderTraversal(rootNode):\n",
    "    if rootNode is None:\n",
    "        return\n",
    "    else:\n",
    "        inOrderTraversal(rootNode.leftChild)\n",
    "        print(rootNode.data)\n",
    "        inOrderTraversal(rootNode.rightChild)\n",
    "        \n",
    "def postOrderTraversal(rootNode):\n",
    "    if rootNode is None:\n",
    "        return\n",
    "    else:\n",
    "        postOrderTraversal(rootNode.leftChild)\n",
    "        postOrderTraversal(rootNode.rightChild)\n",
    "        print(rootNode.data)\n",
    "        \n",
    "def levelOrderTraversal(rootNode):\n",
    "    if rootNode is None:\n",
    "        return\n",
    "    else:\n",
    "        customQueue = queue.Queue()\n",
    "        customQueue.enqueue(rootNode)\n",
    "        while not(customQueue.isEmpty()):\n",
    "            root = customQueue.dequeue()\n",
    "            print(root.value.data)\n",
    "            \n",
    "            if root.value.leftChild is not None:\n",
    "                customQueue.enqueue(root.value.leftChild)\n",
    "            \n",
    "            if root.value.rightChild is not None:\n",
    "                customQueue.enqueue(root.value.rightChild)\n",
    "def print_tree(rootNode):\n",
    "    lst = []\n",
    "    nw_lst = []\n",
    "    count = 0\n",
    "\n",
    "    print(rootNode.data)\n",
    "    lst.append(rootNode)\n",
    "\n",
    "    while lst:\n",
    "        for node in lst:\n",
    "            nw_lst.extend([node.leftChild, node.rightChild])\n",
    "\n",
    "        for x in nw_lst:\n",
    "            if x is None:\n",
    "                count += 1\n",
    "                break\n",
    "            print(x.data, end=\" \")\n",
    "\n",
    "        if count == 1:\n",
    "            break\n",
    "\n",
    "        print()\n",
    "\n",
    "        lst.clear()\n",
    "        lst.extend(nw_lst)\n",
    "        nw_lst.clear()    \n",
    "        \n",
    "def search_node(rootNode,nodeValue):\n",
    "    if rootNode is None:\n",
    "        return \"value NOT found\"\n",
    "    if rootNode.data == nodeValue:\n",
    "        return \"Value is found\"\n",
    "    \n",
    "    if nodeValue < rootNode.data:\n",
    "        return search_node(rootNode.leftChild,nodeValue)\n",
    "    else:\n",
    "        return search_node(rootNode.rightChild,nodeValue)\n",
    "  \n",
    "        \n",
    "    "
   ]
  },
  {
   "cell_type": "code",
   "execution_count": 7,
   "metadata": {},
   "outputs": [
    {
     "data": {
      "text/plain": [
       "[70, 50, 90, 30, 60, 80, 100, 20, 40]"
      ]
     },
     "execution_count": 7,
     "metadata": {},
     "output_type": "execute_result"
    }
   ],
   "source": [
    "bst = BST(None)\n",
    "bst_lst = [70,50,90,30,60,80,100,20,40]\n",
    "\n",
    "for x in bst_lst:\n",
    "    insert_node(bst,x)\n",
    "    \n",
    "bst_lst"
   ]
  },
  {
   "cell_type": "code",
   "execution_count": 8,
   "metadata": {},
   "outputs": [
    {
     "name": "stdout",
     "output_type": "stream",
     "text": [
      "70\n",
      "50\n",
      "90\n",
      "30\n",
      "60\n",
      "80\n",
      "100\n",
      "20\n",
      "40\n"
     ]
    }
   ],
   "source": [
    "levelOrderTraversal(bst)"
   ]
  },
  {
   "cell_type": "code",
   "execution_count": 9,
   "metadata": {},
   "outputs": [
    {
     "name": "stdout",
     "output_type": "stream",
     "text": [
      "70\n",
      "50 90 \n",
      "30 60 80 100 \n",
      "20 40 "
     ]
    }
   ],
   "source": [
    "print_tree(bst)"
   ]
  },
  {
   "cell_type": "code",
   "execution_count": 10,
   "metadata": {},
   "outputs": [
    {
     "name": "stdout",
     "output_type": "stream",
     "text": [
      "Value is found\n"
     ]
    }
   ],
   "source": [
    "print(search_node(bst,20))"
   ]
  },
  {
   "cell_type": "code",
   "execution_count": 11,
   "metadata": {},
   "outputs": [
    {
     "data": {
      "text/plain": [
       "[1, 2, 5, 3, 6, 4]"
      ]
     },
     "execution_count": 11,
     "metadata": {},
     "output_type": "execute_result"
    }
   ],
   "source": [
    "bt = BST(None)\n",
    "bt_lst = [1,2,5,3,6,4]\n",
    "\n",
    "for x in bt_lst:\n",
    "    insert_node(bt,x)\n",
    "    \n",
    "bt_lst"
   ]
  },
  {
   "cell_type": "code",
   "execution_count": 12,
   "metadata": {},
   "outputs": [],
   "source": [
    "bloc_lst = []\n",
    "def blocked_list(root):\n",
    "    if root is None:\n",
    "        return\n",
    "    \n",
    "    if root.leftChild:\n",
    "        if root.leftChild.rightChild:\n",
    "            #print(root.left.right.info,end=\" \")\n",
    "            bloc_lst.append(root.leftChild.rightChild.data)\n",
    "    \n",
    "    if root.rightChild:\n",
    "        if root.rightChild.leftChild:\n",
    "            #print(root.right.left.info,end=\" \")\n",
    "            bloc_lst.append(root.rightChild.leftChild.data)\n",
    "    \n",
    "    blocked_list(root.leftChild)\n",
    "    blocked_list(root.rightChild)\n",
    "    \n",
    "from collections import defaultdict\n",
    "\n",
    "def topView(root):\n",
    "    if not root:\n",
    "        return\n",
    "    \n",
    "    blocked_list(root)\n",
    "    \n",
    "    blocked_nodes = bloc_lst\n",
    "\n",
    "    # Create a dictionary to store nodes at each horizontal distance from the root\n",
    "    hd_map = defaultdict(list)\n",
    "\n",
    "    # Create a queue for level-order traversal\n",
    "    queue = [(root, 0)]  # Each element is a tuple (node, horizontal distance)\n",
    "\n",
    "    while queue:\n",
    "        node, hd = queue.pop(0)\n",
    "\n",
    "        # Check if the node is not blocked\n",
    "        if node.data not in blocked_nodes:\n",
    "            hd_map[hd].append(node.data)\n",
    "\n",
    "        if node.leftChild:\n",
    "            queue.append((node.leftChild, hd - 1))\n",
    "        if node.rightChild:\n",
    "            queue.append((node.rightChild, hd + 1))\n",
    "  \n",
    "\n",
    "    # Print the top view nodes in order of horizontal distance\n",
    "    for hd in sorted(hd_map):\n",
    "        print(hd_map[hd][0], end=\" \")"
   ]
  },
  {
   "cell_type": "code",
   "execution_count": 13,
   "metadata": {},
   "outputs": [
    {
     "name": "stdout",
     "output_type": "stream",
     "text": [
      "1 2 5 6 "
     ]
    }
   ],
   "source": [
    "topView(bt)"
   ]
  },
  {
   "cell_type": "code",
   "execution_count": 14,
   "metadata": {},
   "outputs": [],
   "source": [
    "nbt_lst = \"1 14 3 7 4 5 15 6 13 10 11 2 12 8 9\"\n",
    "nbt_lst = nbt_lst.split(\" \")\n",
    "\n",
    "nbt_lst = list(map(int, nbt_lst))\n",
    "\n",
    "nbt = BST(None)\n",
    "\n",
    "for x in nbt_lst:\n",
    "    insert_node(nbt,x)\n",
    "\n"
   ]
  },
  {
   "cell_type": "code",
   "execution_count": 15,
   "metadata": {},
   "outputs": [
    {
     "name": "stdout",
     "output_type": "stream",
     "text": [
      "2 1 14 15 12 "
     ]
    }
   ],
   "source": [
    "topView(nbt)"
   ]
  },
  {
   "cell_type": "code",
   "execution_count": 24,
   "metadata": {},
   "outputs": [
    {
     "data": {
      "text/plain": [
       "4"
      ]
     },
     "execution_count": 24,
     "metadata": {},
     "output_type": "execute_result"
    }
   ],
   "source": [
    "nbt_lst = \"4 2 7 1 3 6\"\n",
    "nbt_lst = \"2 1 3 4 5 6\"\n",
    "nbt_lst = nbt_lst.split(\" \")\n",
    "\n",
    "nbt_lst = list(map(int, nbt_lst))\n",
    "\n",
    "nbt = BST(None)\n",
    "\n",
    "for x in nbt_lst:\n",
    "    insert_node(nbt,x)\n",
    "    \n",
    "def lca(root, v1, v2):\n",
    "  #Enter your code here\n",
    "    while root:\n",
    "        if v1 > root.data and v2 > root.data:\n",
    "            root = root.rightChild\n",
    "        elif v1 < root.data and v2 < root.data:\n",
    "            root = root.leftChild\n",
    "        else:\n",
    "            return root.data\n",
    "lca(nbt,4,6)"
   ]
  },
  {
   "cell_type": "code",
   "execution_count": null,
   "metadata": {},
   "outputs": [],
   "source": []
  }
 ],
 "metadata": {
  "kernelspec": {
   "display_name": "Python 3",
   "language": "python",
   "name": "python3"
  },
  "language_info": {
   "codemirror_mode": {
    "name": "ipython",
    "version": 3
   },
   "file_extension": ".py",
   "mimetype": "text/x-python",
   "name": "python",
   "nbconvert_exporter": "python",
   "pygments_lexer": "ipython3",
   "version": "3.9.13"
  },
  "orig_nbformat": 4
 },
 "nbformat": 4,
 "nbformat_minor": 2
}
