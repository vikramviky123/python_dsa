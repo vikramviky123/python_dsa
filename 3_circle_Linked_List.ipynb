{
 "cells": [
  {
   "cell_type": "code",
   "execution_count": 80,
   "metadata": {},
   "outputs": [],
   "source": [
    "class Node:\n",
    "    def __init__(self,value):\n",
    "        self.value = value \n",
    "        self.next = None\n",
    "\n",
    "class CircularLinkedList(object):\n",
    "    def __init__(self):\n",
    "        self.head = None\n",
    "        self.tail = None\n",
    "    \n",
    "    def __iter__(self):\n",
    "        node = self.head\n",
    "        while node:\n",
    "            yield node.value    \n",
    "            \n",
    "            if node.next == self.head:\n",
    "                break\n",
    "            \n",
    "            node = node.next\n",
    "            \n",
    "            \n",
    "    def insert_node(self,nodeValue,location):\n",
    "        node = Node(nodeValue)\n",
    "        \n",
    "        if self.head is None:            \n",
    "            self.head = node\n",
    "            self.head.next = self.head\n",
    "            self.tail = node\n",
    "             \n",
    "        \n",
    "        elif location == 0:            \n",
    "            temp_loc = self.head\n",
    "            \n",
    "            self.head = node\n",
    "            self.head.next = temp_loc\n",
    "            \n",
    "            self.tail.next = node\n",
    "            \n",
    "        elif location == 1:            \n",
    "            curr_node = self.head            \n",
    "            while True:                \n",
    "                if curr_node.next == self.head:\n",
    "                    \n",
    "                    curr_node.next = node                    \n",
    "                    curr_node.next.next = self.head\n",
    "                    self.tail = node\n",
    "                    break\n",
    "                \n",
    "                curr_node = curr_node.next\n",
    "        \n",
    "        else:\n",
    "            curr_node = self.head \n",
    "            index = 0\n",
    "            \n",
    "            while index < location-1:\n",
    "                curr_node = curr_node.next\n",
    "                index+=1\n",
    "            \n",
    "            nextNode = curr_node.next          \n",
    "            curr_node.next = node\n",
    "            curr_node.next.next = nextNode\n",
    "    \n",
    "    def traverse_CL(self):\n",
    "        if self.head is None:\n",
    "            print(\"Circular Linked List is empty\")\n",
    "            return \n",
    "        else:\n",
    "            curr_node = self.head\n",
    "            \n",
    "            while True:\n",
    "                print(curr_node.value)\n",
    "                if curr_node.next == self.head:\n",
    "                    break                \n",
    "                curr_node = curr_node.next\n",
    "                \n",
    "    def search_CL(self, nodeValue):\n",
    "        if self.head is None:\n",
    "            print(\"Circular Linked List is empty\")\n",
    "            return\n",
    "        \n",
    "        else:\n",
    "            curr_node = self.head\n",
    "            \n",
    "            while True:\n",
    "                if curr_node.value == nodeValue:\n",
    "                    print(f\"{nodeValue} present in Circular LL\")\n",
    "                    return\n",
    "                curr_node = curr_node.next\n",
    "            "
   ]
  },
  {
   "cell_type": "code",
   "execution_count": 81,
   "metadata": {},
   "outputs": [
    {
     "name": "stdout",
     "output_type": "stream",
     "text": [
      "[10, 30, 50]\n"
     ]
    }
   ],
   "source": [
    "n1 = Node(10)\n",
    "n2 = Node(30)\n",
    "n3 = Node(50)\n",
    "\n",
    "cl = CircularLinkedList()\n",
    "cl.head = n1\n",
    "cl.head.next = n2\n",
    "cl.head.next.next = n3\n",
    "\n",
    "cl.head.next.next.next = n1\n",
    "\n",
    "cl.tail = n3\n",
    "print([node for node in cl])"
   ]
  },
  {
   "cell_type": "code",
   "execution_count": 82,
   "metadata": {},
   "outputs": [
    {
     "name": "stdout",
     "output_type": "stream",
     "text": [
      "<__main__.Node object at 0x00000217E1DDE7C0>\n",
      "<__main__.Node object at 0x00000217E1DDE7C0>\n",
      "<__main__.Node object at 0x00000217E1DDEAF0>\n",
      "<__main__.Node object at 0x00000217E1DDEAF0>\n"
     ]
    }
   ],
   "source": [
    "print(cl.tail)\n",
    "print(n3)\n",
    "print(cl.head)\n",
    "print(n3.next)"
   ]
  },
  {
   "cell_type": "code",
   "execution_count": 83,
   "metadata": {},
   "outputs": [
    {
     "name": "stdout",
     "output_type": "stream",
     "text": [
      "[59, 10, 30, 50, 300, 500]\n",
      "[59, 10, 200, 30, 50, 300, 500]\n"
     ]
    }
   ],
   "source": [
    "cl.insert_node(59,0)\n",
    "cl.insert_node(300,1)\n",
    "cl.insert_node(500,1)\n",
    "print([node for node in cl])\n",
    "cl.insert_node(200,2)\n",
    "print([node for node in cl])"
   ]
  },
  {
   "cell_type": "code",
   "execution_count": 84,
   "metadata": {},
   "outputs": [
    {
     "name": "stdout",
     "output_type": "stream",
     "text": [
      "59\n",
      "500\n"
     ]
    }
   ],
   "source": [
    "print(cl.head.value)\n",
    "print(cl.tail.value)"
   ]
  },
  {
   "cell_type": "code",
   "execution_count": 85,
   "metadata": {},
   "outputs": [
    {
     "name": "stdout",
     "output_type": "stream",
     "text": [
      "<__main__.Node object at 0x00000217E1C5E130>\n",
      "<__main__.Node object at 0x00000217E1C5E130>\n"
     ]
    }
   ],
   "source": [
    "print(cl.head)\n",
    "print(cl.tail.next)"
   ]
  },
  {
   "cell_type": "code",
   "execution_count": 86,
   "metadata": {},
   "outputs": [
    {
     "name": "stdout",
     "output_type": "stream",
     "text": [
      "59\n",
      "10\n",
      "200\n",
      "30\n",
      "50\n",
      "300\n",
      "500\n"
     ]
    }
   ],
   "source": [
    "cl.traverse_CL()"
   ]
  },
  {
   "cell_type": "code",
   "execution_count": 87,
   "metadata": {},
   "outputs": [
    {
     "name": "stdout",
     "output_type": "stream",
     "text": [
      "300 present in Circular LL\n"
     ]
    }
   ],
   "source": [
    "cl.search_CL(300)"
   ]
  },
  {
   "cell_type": "code",
   "execution_count": null,
   "metadata": {},
   "outputs": [],
   "source": []
  }
 ],
 "metadata": {
  "kernelspec": {
   "display_name": "Python 3",
   "language": "python",
   "name": "python3"
  },
  "language_info": {
   "codemirror_mode": {
    "name": "ipython",
    "version": 3
   },
   "file_extension": ".py",
   "mimetype": "text/x-python",
   "name": "python",
   "nbconvert_exporter": "python",
   "pygments_lexer": "ipython3",
   "version": "3.9.13"
  },
  "orig_nbformat": 4
 },
 "nbformat": 4,
 "nbformat_minor": 2
}
