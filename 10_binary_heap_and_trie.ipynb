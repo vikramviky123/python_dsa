{
 "cells": [
  {
   "cell_type": "markdown",
   "metadata": {},
   "source": [
    "![Alt text](image-3.png)"
   ]
  },
  {
   "cell_type": "code",
   "execution_count": 20,
   "metadata": {},
   "outputs": [],
   "source": [
    "class Heap:\n",
    "    def __init__(self,size):\n",
    "        self.customList = (size+1)*[None]\n",
    "        self.heapSize = 0\n",
    "        self.maxSize = size+1\n",
    "        \n",
    "    def peekOfHeap(self):\n",
    "        if not self.customList:\n",
    "            return\n",
    "        else:\n",
    "            return self.customList[1]\n",
    "        \n",
    "    def sizeOfHeap(self):\n",
    "        if self.customList is None:\n",
    "            return\n",
    "        else:\n",
    "            return self.heapSize\n",
    "        \n",
    "    def levelOrderTraversal(self):\n",
    "        if self.customList is None:\n",
    "            return\n",
    "        else:\n",
    "            for i in range(1,self.heapSize+1):\n",
    "                print(self.customList[i])\n",
    "                \n",
    "    def heapify_tree(self,index,heapType):\n",
    "        parentIndex = int(index/2)\n",
    "        \n",
    "        if index <= 1:\n",
    "            return\n",
    "        if heapType == \"Min\":\n",
    "            if self.customList[index] < self.customList[parentIndex]:\n",
    "                temp = self.customList[index]\n",
    "                self.customList[index] = self.customList[parentIndex]\n",
    "                self.customList[parentIndex] = temp\n",
    "            self.heapify_tree(parentIndex,heapType)\n",
    "            \n",
    "        elif heapType == \"Max\":\n",
    "            if self.customList[index] > self.customList[parentIndex]:\n",
    "                temp = self.customList[index]\n",
    "                self.customList[index] = self.customList[parentIndex]\n",
    "                self.customList[parentIndex] = temp\n",
    "            self.heapify_tree(parentIndex,heapType)\n",
    "            \n",
    "    def insert_node(self,nodeValue,heapType):\n",
    "        if self.heapSize+1 == self.maxSize:\n",
    "            return \"Binary Heap is FULL\"\n",
    "        \n",
    "        self.customList[self.heapSize + 1] = nodeValue\n",
    "        self.heapSize+=1\n",
    "        self.heapify_tree(self.heapSize,heapType)\n",
    "        return \"The value has been inserted\""
   ]
  },
  {
   "cell_type": "code",
   "execution_count": 21,
   "metadata": {},
   "outputs": [],
   "source": [
    "bheap = Heap(5)"
   ]
  },
  {
   "cell_type": "code",
   "execution_count": 22,
   "metadata": {},
   "outputs": [
    {
     "name": "stdout",
     "output_type": "stream",
     "text": [
      "None\n",
      "0\n"
     ]
    }
   ],
   "source": [
    "print(bheap.peekOfHeap())\n",
    "print(bheap.sizeOfHeap())"
   ]
  },
  {
   "cell_type": "code",
   "execution_count": 23,
   "metadata": {},
   "outputs": [
    {
     "name": "stdout",
     "output_type": "stream",
     "text": [
      "The value has been inserted\n",
      "The value has been inserted\n",
      "The value has been inserted\n",
      "The value has been inserted\n"
     ]
    }
   ],
   "source": [
    "print(bheap.insert_node(4,\"Max\"))\n",
    "print(bheap.insert_node(5,\"Max\"))\n",
    "print(bheap.insert_node(2,\"Max\"))\n",
    "print(bheap.insert_node(1,\"Max\"))"
   ]
  },
  {
   "cell_type": "code",
   "execution_count": 24,
   "metadata": {},
   "outputs": [
    {
     "name": "stdout",
     "output_type": "stream",
     "text": [
      "5\n",
      "4\n",
      "2\n",
      "1\n"
     ]
    }
   ],
   "source": [
    "bheap.levelOrderTraversal()"
   ]
  },
  {
   "cell_type": "code",
   "execution_count": 27,
   "metadata": {},
   "outputs": [
    {
     "name": "stdout",
     "output_type": "stream",
     "text": [
      "5\n",
      "10\n",
      "30\n",
      "15\n",
      "50\n",
      "40\n",
      "45\n",
      "20\n"
     ]
    }
   ],
   "source": [
    "lst = [15,10,40,20,50,30,45,5]\n",
    "ll = len(lst)\n",
    "bh = Heap(ll)\n",
    "for x in lst:\n",
    "    bh.insert_node(x,\"Min\")\n",
    "    \n",
    "bh.levelOrderTraversal()\n",
    "    "
   ]
  },
  {
   "cell_type": "markdown",
   "metadata": {},
   "source": [
    "![Alt text](image-4.png)"
   ]
  },
  {
   "cell_type": "code",
   "execution_count": 6,
   "metadata": {},
   "outputs": [],
   "source": [
    "class TrieNode:\n",
    "    def __init__(self):\n",
    "        self.children = {}\n",
    "        self.endOfString = False\n",
    "        \n",
    "class Trie:\n",
    "    def __init__(self):\n",
    "        self.root = TrieNode()\n",
    "        \n",
    "    def insert_string(self,word):\n",
    "        \n",
    "        current = self.root\n",
    "        \n",
    "        for i in word:\n",
    "            ch = i\n",
    "            node = current.children.get(ch)\n",
    "            \n",
    "            if node == None:\n",
    "                node = TrieNode()\n",
    "                current.children.update({ch:node})\n",
    "                \n",
    "            current = node\n",
    "            \n",
    "        current.endOfString = True\n",
    "        print(\"Successfully inserted\")\n",
    "        \n",
    "    def search_string(self,word):\n",
    "        currentNode = self.root\n",
    "        \n",
    "        for i in word:\n",
    "            node = currentNode.children.get(i)\n",
    "            \n",
    "            if node is None:\n",
    "                return False\n",
    "            currentNode = node\n",
    "        \n",
    "        if currentNode.endOfString == True:\n",
    "            return True\n",
    "        else:\n",
    "            return False\n",
    "            \n",
    "        \n",
    "        \n",
    "nt = Trie()"
   ]
  },
  {
   "cell_type": "code",
   "execution_count": 7,
   "metadata": {},
   "outputs": [
    {
     "name": "stdout",
     "output_type": "stream",
     "text": [
      "{}\n",
      "False\n"
     ]
    }
   ],
   "source": [
    "print(nt.root.children)\n",
    "print(nt.root.endOfString)"
   ]
  },
  {
   "cell_type": "code",
   "execution_count": 8,
   "metadata": {},
   "outputs": [
    {
     "name": "stdout",
     "output_type": "stream",
     "text": [
      "Successfully inserted\n",
      "Successfully inserted\n",
      "Successfully inserted\n"
     ]
    }
   ],
   "source": [
    "nt.insert_string(\"app\")\n",
    "nt.insert_string(\"apps\")\n",
    "nt.insert_string(\"apple\")"
   ]
  },
  {
   "cell_type": "code",
   "execution_count": 9,
   "metadata": {},
   "outputs": [
    {
     "name": "stdout",
     "output_type": "stream",
     "text": [
      "{'a': <__main__.TrieNode object at 0x000001F8CFFD1940>}\n",
      "{'p': <__main__.TrieNode object at 0x000001F8CFFD1CD0>}\n",
      "{'p': <__main__.TrieNode object at 0x000001F8CFFD14F0>}\n",
      "{'s': <__main__.TrieNode object at 0x000001F8CFFD10D0>, 'l': <__main__.TrieNode object at 0x000001F8CFFD1BE0>}\n",
      "{}\n",
      "{'e': <__main__.TrieNode object at 0x000001F8CFFD1B80>}\n",
      "True\n",
      "<__main__.TrieNode object at 0x000001F8CFFD1B80>\n",
      "True\n"
     ]
    }
   ],
   "source": [
    "print(nt.root.children)\n",
    "print(nt.root.children['a'].children)\n",
    "print(nt.root.children['a'].children['p'].children)\n",
    "print(nt.root.children['a'].children['p'].children['p'].children)\n",
    "print(nt.root.children['a'].children['p'].children['p'].children['s'].children)\n",
    "print(nt.root.children['a'].children['p'].children['p'].children['l'].children)\n",
    "print(nt.root.children['a'].children['p'].children['p'].children['s'].endOfString)\n",
    "print(nt.root.children['a'].children['p'].children['p'].children['l'].children['e'])\n",
    "print(nt.root.children['a'].children['p'].children['p'].children['l'].children['e'].endOfString)\n"
   ]
  },
  {
   "cell_type": "code",
   "execution_count": 10,
   "metadata": {},
   "outputs": [
    {
     "name": "stdout",
     "output_type": "stream",
     "text": [
      "True\n"
     ]
    }
   ],
   "source": [
    "print(nt.search_string(\"app\"))"
   ]
  },
  {
   "cell_type": "code",
   "execution_count": 4,
   "metadata": {},
   "outputs": [],
   "source": [
    "def powerSum(X, N, current=1):\n",
    "    if X == 0:\n",
    "        return 1  # Found a valid combination\n",
    "    elif X < 0 or current ** N > X:\n",
    "        return 0  # Invalid combination\n",
    "    else:\n",
    "        # Recursively explore two possibilities:\n",
    "        # 1. Include the current number to the sum.\n",
    "        # 2. Exclude the current number from the sum.\n",
    "        include_current = powerSum(X - current ** N, N, current + 1)\n",
    "        exclude_current = powerSum(X, N, current + 1)\n",
    "        \n",
    "        return include_current + exclude_current"
   ]
  },
  {
   "cell_type": "code",
   "execution_count": 40,
   "metadata": {},
   "outputs": [
    {
     "data": {
      "text/plain": [
       "1"
      ]
     },
     "execution_count": 40,
     "metadata": {},
     "output_type": "execute_result"
    }
   ],
   "source": [
    "powerSum(5,2)"
   ]
  },
  {
   "cell_type": "code",
   "execution_count": null,
   "metadata": {},
   "outputs": [],
   "source": []
  }
 ],
 "metadata": {
  "kernelspec": {
   "display_name": "Python 3",
   "language": "python",
   "name": "python3"
  },
  "language_info": {
   "codemirror_mode": {
    "name": "ipython",
    "version": 3
   },
   "file_extension": ".py",
   "mimetype": "text/x-python",
   "name": "python",
   "nbconvert_exporter": "python",
   "pygments_lexer": "ipython3",
   "version": "3.9.13"
  },
  "orig_nbformat": 4
 },
 "nbformat": 4,
 "nbformat_minor": 2
}
