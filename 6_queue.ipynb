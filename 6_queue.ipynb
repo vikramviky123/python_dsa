{
 "cells": [
  {
   "cell_type": "code",
   "execution_count": 15,
   "metadata": {},
   "outputs": [],
   "source": [
    "class Queue:\n",
    "    def __init__(self):\n",
    "        self.list = []\n",
    "        \n",
    "    def __str__(self):\n",
    "        values = [str(x) for x in self.list]\n",
    "        return \"\\n\".join(values)\n",
    "        \n",
    "    def isEmpty(self):\n",
    "        if self.list is None:\n",
    "            return True\n",
    "        else:\n",
    "            return False\n",
    "    \n",
    "    def enqueue(self,value):\n",
    "        self.list.append(value)\n",
    "        return\n",
    "    \n",
    "    def dequeue(self):\n",
    "        self.list.pop(0)\n",
    "        return\n",
    "        "
   ]
  },
  {
   "cell_type": "code",
   "execution_count": 16,
   "metadata": {},
   "outputs": [
    {
     "name": "stdout",
     "output_type": "stream",
     "text": [
      "False\n",
      "10\n",
      "20\n",
      "30\n",
      "--------------------------------------------------------------------------------\n",
      "20\n",
      "30\n"
     ]
    }
   ],
   "source": [
    "customQueue = Queue()\n",
    "customQueue.enqueue(10)\n",
    "customQueue.enqueue(20)\n",
    "customQueue.enqueue(30)\n",
    "print(customQueue.isEmpty())\n",
    "print(customQueue)\n",
    "customQueue.dequeue()\n",
    "print(\"-\"*80)\n",
    "print(customQueue)"
   ]
  },
  {
   "cell_type": "code",
   "execution_count": null,
   "metadata": {},
   "outputs": [],
   "source": []
  },
  {
   "cell_type": "code",
   "execution_count": null,
   "metadata": {},
   "outputs": [],
   "source": []
  }
 ],
 "metadata": {
  "kernelspec": {
   "display_name": "Python 3",
   "language": "python",
   "name": "python3"
  },
  "language_info": {
   "codemirror_mode": {
    "name": "ipython",
    "version": 3
   },
   "file_extension": ".py",
   "mimetype": "text/x-python",
   "name": "python",
   "nbconvert_exporter": "python",
   "pygments_lexer": "ipython3",
   "version": "3.9.13"
  },
  "orig_nbformat": 4
 },
 "nbformat": 4,
 "nbformat_minor": 2
}
