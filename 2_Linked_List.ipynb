{
 "cells": [
  {
   "cell_type": "code",
   "execution_count": 12,
   "metadata": {},
   "outputs": [],
   "source": [
    "class Node:\n",
    "    def __init__(self,value=None):\n",
    "        self.value = value\n",
    "        self.next = None\n",
    "class LinkedList:\n",
    "    def __init__(self):\n",
    "        self.head = None\n",
    "        self.tail = None\n",
    "    \n",
    "    def __iter__(self):\n",
    "        node = self.head\n",
    "        while node:\n",
    "            yield node\n",
    "            node = node.next\n",
    "    \n",
    "    def insert_LL(self,value,location):\n",
    "        newNode = Node(value)\n",
    "        if self.head is None:\n",
    "            self.head = newNode\n",
    "            self.tail = newNode\n",
    "            \n",
    "        else:\n",
    "            if location == 0:\n",
    "                newNode.next = self.head\n",
    "                self.head = newNode\n",
    "            elif location == 1:\n",
    "                newNode.next = None\n",
    "                self.tail.next = newNode\n",
    "                self.tail = newNode\n",
    "            else:\n",
    "                tempNode = self.head\n",
    "                index = 0\n",
    "                \n",
    "                while index < location-1:\n",
    "                    tempNode = tempNode.next\n",
    "                    index+=1   \n",
    "                    \n",
    "                nextNode = tempNode.next\n",
    "                tempNode.next = newNode                \n",
    "                newNode.next = nextNode \n",
    "                \n",
    "    def delete_node(self,nodeValue):\n",
    "        if self.head is None:\n",
    "            print(\"Linked List is empty\")\n",
    "            return\n",
    "        if self.head.next is None:\n",
    "            if self.head.value == nodeValue:\n",
    "                self.head = None\n",
    "                self.tail = None\n",
    "                return\n",
    "            else:\n",
    "                return f\"Value Not present in Linked List\"\n",
    "            \n",
    "        else:\n",
    "            \n",
    "            curr_node = self.head\n",
    "            \n",
    "            while curr_node:\n",
    "                \n",
    "                if curr_node.next.next is None:\n",
    "                    if curr_node.next.value == nodeValue:\n",
    "                        curr_node.next = None\n",
    "                        self.tail = curr_node\n",
    "                        return\n",
    "                    else:\n",
    "                        return f\"Value Not present in Linked List\"\n",
    "                    \n",
    "                if curr_node.next.value == nodeValue:\n",
    "                    temp = curr_node.next.next\n",
    "                    curr_node.next.next = None\n",
    "                    curr_node.next = temp             \n",
    "                    return              \n",
    "                \n",
    "                curr_node = curr_node.next\n",
    "    \n",
    "    def delete_LL(self):\n",
    "        if self.head is None:\n",
    "            return f\"Linked List Does Not Exists\"\n",
    "        \n",
    "        else:\n",
    "            self.head = None\n",
    "            self.tail = None\n",
    "            \n",
    "            return f\"Linked List is Deleted\"\n",
    "                               \n",
    "            \n",
    "    def traverse_LL(self):\n",
    "        if self.head is None:\n",
    "            print(\"Linked List is Empty\")\n",
    "        else:\n",
    "            temp_node = self.head\n",
    "            while temp_node is not None:\n",
    "                print(temp_node.value)\n",
    "                temp_node = temp_node.next\n",
    "                \n",
    "    def search_LL(self,nodeValue):\n",
    "        if self.head is None:            \n",
    "            return \"Linked List is Empty\"\n",
    "        \n",
    "        else:\n",
    "            temp_n = self.head\n",
    "            while temp_n is not None:\n",
    "                if temp_n.value == nodeValue:                    \n",
    "                    return  temp_n.value                 \n",
    "                \n",
    "                temp_n = temp_n.next\n",
    "                \n",
    "                if temp_n is None:\n",
    "                    return f\"The node value is not presetn in Linked List\"      \n",
    "                    "
   ]
  },
  {
   "cell_type": "code",
   "execution_count": 13,
   "metadata": {},
   "outputs": [
    {
     "name": "stdout",
     "output_type": "stream",
     "text": [
      "<__main__.LinkedList object at 0x0000014924F8B550>\n"
     ]
    }
   ],
   "source": [
    "ll = LinkedList()\n",
    "print(ll)"
   ]
  },
  {
   "cell_type": "code",
   "execution_count": 14,
   "metadata": {},
   "outputs": [],
   "source": [
    "ll.insert_LL(1,1)\n",
    "ll.insert_LL(2,1)\n",
    "ll.insert_LL(3,1)\n",
    "ll.insert_LL(4,1)\n",
    "ll.insert_LL(5,1)"
   ]
  },
  {
   "cell_type": "code",
   "execution_count": 15,
   "metadata": {},
   "outputs": [],
   "source": [
    "ll.insert_LL(200,3)"
   ]
  },
  {
   "cell_type": "code",
   "execution_count": 8,
   "metadata": {},
   "outputs": [
    {
     "name": "stdout",
     "output_type": "stream",
     "text": [
      "[1, 2, 3, 4, 5]\n",
      "[100, 1, 2, 3, 4, 5]\n",
      "[100, 1, 2, 200, 3, 4, 5]\n"
     ]
    }
   ],
   "source": [
    "print([node.value for node in ll])\n",
    "ll.insert_LL(100,0)\n",
    "print([node.value for node in ll])\n",
    "ll.insert_LL(200,3)\n",
    "print([node.value for node in ll])"
   ]
  },
  {
   "cell_type": "code",
   "execution_count": 9,
   "metadata": {},
   "outputs": [
    {
     "name": "stdout",
     "output_type": "stream",
     "text": [
      "100\n",
      "1\n",
      "2\n",
      "200\n",
      "3\n",
      "4\n",
      "5\n"
     ]
    }
   ],
   "source": [
    "ll.traverse_LL()"
   ]
  },
  {
   "cell_type": "code",
   "execution_count": 10,
   "metadata": {},
   "outputs": [
    {
     "name": "stdout",
     "output_type": "stream",
     "text": [
      "200\n",
      "The node value is not presetn in Linked List\n"
     ]
    }
   ],
   "source": [
    "print(ll.search_LL(200))\n",
    "print(ll.search_LL(2000))"
   ]
  },
  {
   "cell_type": "code",
   "execution_count": 11,
   "metadata": {},
   "outputs": [
    {
     "name": "stdout",
     "output_type": "stream",
     "text": [
      "100\n",
      "1\n",
      "2\n",
      "3\n",
      "4\n",
      "5\n"
     ]
    }
   ],
   "source": [
    "ll.delete_node(200)\n",
    "ll.traverse_LL()"
   ]
  },
  {
   "cell_type": "code",
   "execution_count": 19,
   "metadata": {},
   "outputs": [
    {
     "name": "stdout",
     "output_type": "stream",
     "text": [
      "Linked List is Deleted\n",
      "Linked List is Empty\n"
     ]
    }
   ],
   "source": [
    "print(ll.delete_LL())\n",
    "ll.traverse_LL()"
   ]
  },
  {
   "cell_type": "code",
   "execution_count": null,
   "metadata": {},
   "outputs": [],
   "source": []
  },
  {
   "cell_type": "code",
   "execution_count": 20,
   "metadata": {},
   "outputs": [
    {
     "name": "stdout",
     "output_type": "stream",
     "text": [
      "<__main__.LinkedList object at 0x0000012D2F4A4F40>\n"
     ]
    }
   ],
   "source": [
    "ll = LinkedList()\n",
    "print(ll)\n",
    "n1 =Node(10)\n",
    "n2 =Node(20)"
   ]
  },
  {
   "cell_type": "code",
   "execution_count": 21,
   "metadata": {},
   "outputs": [
    {
     "name": "stdout",
     "output_type": "stream",
     "text": [
      "<__main__.Node object at 0x0000012D2F4A4D60>\n",
      "10 1293494676048 1293578554720 0x12d2f4a4d60\n",
      "<__main__.Node object at 0x0000012D2F379820>\n",
      "20\n"
     ]
    }
   ],
   "source": [
    "print(n1)\n",
    "print(n1.value,id(n1.value),id(n1),hex(id(n1)))\n",
    "print(n2)\n",
    "print(n2.value)"
   ]
  },
  {
   "cell_type": "code",
   "execution_count": 22,
   "metadata": {},
   "outputs": [],
   "source": [
    "ll.head = n1\n",
    "ll.head.next = n2\n",
    "ll.tail = n2"
   ]
  },
  {
   "cell_type": "code",
   "execution_count": 23,
   "metadata": {},
   "outputs": [
    {
     "name": "stdout",
     "output_type": "stream",
     "text": [
      "1\n",
      "4\n",
      "9\n"
     ]
    }
   ],
   "source": [
    "class Squares:\n",
    "    def __init__(self, start, stop):\n",
    "        self.start = start\n",
    "        self.stop = stop\n",
    "    def __iter__(self):\n",
    "        for value in range(self.start, self.stop + 1):\n",
    "            yield value ** 2\n",
    "x = Squares(1, 3)\n",
    "i = x.__iter__()\n",
    "\n",
    "print(next(i))\n",
    "print(next(i))\n",
    "print(next(i))"
   ]
  },
  {
   "cell_type": "code",
   "execution_count": 24,
   "metadata": {},
   "outputs": [
    {
     "name": "stdout",
     "output_type": "stream",
     "text": [
      "0\n",
      "1\n",
      "4\n",
      "9\n"
     ]
    }
   ],
   "source": [
    "def gen_func(x):\n",
    "    for x in range(x):\n",
    "        yield pow(x,2)\n",
    "        \n",
    "zz = gen_func(10)\n",
    "\n",
    "print(next(zz))\n",
    "print(next(zz))\n",
    "print(next(zz))\n",
    "print(next(zz))"
   ]
  },
  {
   "cell_type": "code",
   "execution_count": 25,
   "metadata": {},
   "outputs": [
    {
     "name": "stdout",
     "output_type": "stream",
     "text": [
      "[0, 1, 4, 9, 16, 25, 36, 49, 64, 81]\n"
     ]
    }
   ],
   "source": [
    "zz = gen_func(10)\n",
    "print([x for x in zz])"
   ]
  }
 ],
 "metadata": {
  "kernelspec": {
   "display_name": "Python 3",
   "language": "python",
   "name": "python3"
  },
  "language_info": {
   "codemirror_mode": {
    "name": "ipython",
    "version": 3
   },
   "file_extension": ".py",
   "mimetype": "text/x-python",
   "name": "python",
   "nbconvert_exporter": "python",
   "pygments_lexer": "ipython3",
   "version": "3.9.13"
  },
  "orig_nbformat": 4
 },
 "nbformat": 4,
 "nbformat_minor": 2
}
