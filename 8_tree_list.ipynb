{
 "cells": [
  {
   "cell_type": "markdown",
   "metadata": {},
   "source": [
    "![Alt text](image-2.png)"
   ]
  },
  {
   "cell_type": "code",
   "execution_count": 52,
   "metadata": {},
   "outputs": [
    {
     "name": "stdout",
     "output_type": "stream",
     "text": [
      "Successfully inserted\n",
      "Successfully inserted\n",
      "Successfully inserted\n",
      "Successfully inserted\n",
      "Successfully inserted\n",
      "Successfully inserted\n",
      "Successfully inserted\n",
      "[None, 10, 20, 30, 200, 300, 400, 500]\n",
      "Node exists in BT\n"
     ]
    }
   ],
   "source": [
    "class BinaryTree:\n",
    "    def __init__(self,size):\n",
    "        self.customList = size*[None]\n",
    "        self.lasUsedIndex = 0\n",
    "        self.maxSize = size\n",
    "        \n",
    "    def insert_node(self,value):\n",
    "        if self.lasUsedIndex == self.maxSize:\n",
    "            return \"Binary Tree is FULL\"\n",
    "        self.customList[self.lasUsedIndex+1] = value\n",
    "        self.lasUsedIndex+=1\n",
    "        return \"Successfully inserted\"\n",
    "    \n",
    "    def search_node(self,nodeValue):\n",
    "        for i in self.customList:\n",
    "            if i == nodeValue:\n",
    "                return \"Node exists in BT\"\n",
    "            \n",
    "        return \"Node Does NOT exists\"\n",
    "    \n",
    "    def preOrderTraversal(self,index):\n",
    "        if index > self.lasUsedIndex:\n",
    "            return\n",
    "        print(self.customList[index])\n",
    "        \n",
    "        self.preOrderTraversal(index*2)\n",
    "        self.preOrderTraversal(index*2+1)\n",
    "        \n",
    "    \n",
    "    def inOrderTraversal(self,index):\n",
    "        if index > self.lasUsedIndex:\n",
    "            return\n",
    "        \n",
    "        self.inOrderTraversal(index*2)\n",
    "        print(self.customList[index])\n",
    "        self.inOrderTraversal(index*2+1)\n",
    "        \n",
    "    def postOrderTraversal(self,index):\n",
    "        if index > self.lasUsedIndex:\n",
    "            return\n",
    "        \n",
    "        self.postOrderTraversal(index*2)\n",
    "        self.postOrderTraversal(index*2+1)\n",
    "        print(self.customList[index])\n",
    "        \n",
    "    def levelOrderTraversal(self,index):\n",
    "        if index > self.lasUsedIndex:\n",
    "            return\n",
    "        \n",
    "        lev = 0\n",
    "        \n",
    "        for i in range(index,self.lasUsedIndex+1):\n",
    "            print(self.customList[i], end=\" \")\n",
    "            if i-1 == lev:\n",
    "                lev = lev + pow(2,i+1)-1\n",
    "                print(\"\\n\")\n",
    "        \n",
    "bt = BinaryTree(8)\n",
    "print(bt.insert_node(10))\n",
    "print(bt.insert_node(20))\n",
    "print(bt.insert_node(30))\n",
    "print(bt.insert_node(200))\n",
    "print(bt.insert_node(300))\n",
    "print(bt.insert_node(400))\n",
    "print(bt.insert_node(500))\n",
    "print(bt.customList)\n",
    "print(bt.search_node(20))"
   ]
  },
  {
   "cell_type": "code",
   "execution_count": 53,
   "metadata": {},
   "outputs": [
    {
     "name": "stdout",
     "output_type": "stream",
     "text": [
      "10\n",
      "20\n",
      "200\n",
      "300\n",
      "30\n",
      "400\n",
      "500\n"
     ]
    }
   ],
   "source": [
    "bt.preOrderTraversal(1)"
   ]
  },
  {
   "cell_type": "code",
   "execution_count": 55,
   "metadata": {},
   "outputs": [
    {
     "name": "stdout",
     "output_type": "stream",
     "text": [
      "10 \n",
      "\n",
      "20 30 200 \n",
      "\n",
      "300 400 500 "
     ]
    }
   ],
   "source": [
    "bt.levelOrderTraversal(1)"
   ]
  },
  {
   "cell_type": "code",
   "execution_count": null,
   "metadata": {},
   "outputs": [],
   "source": []
  },
  {
   "cell_type": "code",
   "execution_count": null,
   "metadata": {},
   "outputs": [],
   "source": []
  }
 ],
 "metadata": {
  "kernelspec": {
   "display_name": "Python 3",
   "language": "python",
   "name": "python3"
  },
  "language_info": {
   "codemirror_mode": {
    "name": "ipython",
    "version": 3
   },
   "file_extension": ".py",
   "mimetype": "text/x-python",
   "name": "python",
   "nbconvert_exporter": "python",
   "pygments_lexer": "ipython3",
   "version": "3.9.13"
  },
  "orig_nbformat": 4
 },
 "nbformat": 4,
 "nbformat_minor": 2
}
