{
 "cells": [
  {
   "cell_type": "markdown",
   "metadata": {},
   "source": [
    "Graphs\n",
    "![Alt text](image-7.png)"
   ]
  },
  {
   "cell_type": "markdown",
   "metadata": {},
   "source": [
    "![Alt text](image-8.png)"
   ]
  },
  {
   "cell_type": "markdown",
   "metadata": {},
   "source": [
    "![Alt text](image-9.png)"
   ]
  },
  {
   "cell_type": "markdown",
   "metadata": {},
   "source": [
    "Breadth First Search"
   ]
  },
  {
   "cell_type": "code",
   "execution_count": 18,
   "metadata": {},
   "outputs": [
    {
     "data": {
      "text/plain": [
       "defaultdict(list,\n",
       "            {'a': ['b', 'c'],\n",
       "             'b': ['a', 'd', 'e'],\n",
       "             'c': ['a', 'e'],\n",
       "             'd': ['b', 'e', 'f'],\n",
       "             'e': ['d', 'f'],\n",
       "             'f': ['d', 'e']})"
      ]
     },
     "execution_count": 18,
     "metadata": {},
     "output_type": "execute_result"
    }
   ],
   "source": [
    "from collections import defaultdict\n",
    "class Graph:\n",
    "    def __init__(self, num_of_vertices):\n",
    "        self.gdict = defaultdict(list)\n",
    "        self.num_of_vertices = num_of_vertices\n",
    "    \n",
    "    def addEdge(self, vertex, edge):\n",
    "        self.gdict[vertex].append(edge)\n",
    "    \n",
    "    def bfs(self, vertex):\n",
    "        visited = [vertex]\n",
    "        queue = [vertex]\n",
    "        while queue:\n",
    "            deVertex = queue.pop(0)\n",
    "            print(deVertex, end = \" \")\n",
    "            for adjacentVertex in self.gdict[deVertex]:\n",
    "                if adjacentVertex not in visited:\n",
    "                    visited.append(adjacentVertex)\n",
    "                    queue.append(adjacentVertex)\n",
    "                    \n",
    "        \n",
    "    def dfs(self, vertex):\n",
    "        visited = [vertex]\n",
    "        stack = [vertex]\n",
    "        while stack:\n",
    "            deVertex = stack.pop()\n",
    "            print(deVertex, end = \" \")\n",
    "            for adjacentVertex in self.gdict[deVertex]:\n",
    "                if adjacentVertex not in visited:\n",
    "                    visited.append(adjacentVertex)\n",
    "                    stack.append(adjacentVertex) \n",
    "                    \n",
    "    ### Single Source Shortest Path\n",
    "    def bfss(self, start, end):\n",
    "        queue = []\n",
    "        queue.append([start])\n",
    "        \n",
    "        while queue:\n",
    "            path = queue.pop(0)\n",
    "            node = path[-1]\n",
    "            \n",
    "            if node == end:\n",
    "                return path\n",
    "            \n",
    "            for adjacent in self.gdict[node]:\n",
    "                new_path = list(path)\n",
    "                \n",
    "                new_path.append(adjacent)\n",
    "                queue.append(new_path)\n",
    "                \n",
    "        \n",
    "                    \n",
    "    def topologicalSortUtil(self, v, visited, stack):        \n",
    "        visited.append(v)\n",
    "        \n",
    "        for i in self.gdict[v]:\n",
    "            if i not in visited:\n",
    "                self.topologicalSortUtil(i, visited, stack)\n",
    "                \n",
    "        stack.insert(0, v)\n",
    "                    \n",
    "    def topologocal_sort(self):\n",
    "        visited = []\n",
    "        stack   = []\n",
    "        \n",
    "        for k in list(self.gdict):\n",
    "            if k not in visited:\n",
    "                self.topologicalSortUtil(k, visited, stack)\n",
    "        print(stack)         \n",
    "                \n",
    "customDict = {\"a\" : [\"b\",\"c\"],\n",
    "              \"b\" : [\"a\",\"d\",\"e\"],\n",
    "              \"c\" : [\"a\",\"e\"],\n",
    "              \"d\" : [\"b\",\"e\",\"f\"],\n",
    "              \"e\" : [\"d\",\"f\"],\n",
    "              \"f\" : [\"d\",\"e\"]\n",
    "              }\n",
    "\n",
    "gr = Graph(6)\n",
    "\n",
    "for keys,values in customDict.items():\n",
    "    for item in customDict[keys]:\n",
    "        gr.addEdge(keys,item)\n",
    "    \n",
    "gr.gdict"
   ]
  },
  {
   "cell_type": "code",
   "execution_count": 19,
   "metadata": {},
   "outputs": [
    {
     "name": "stdout",
     "output_type": "stream",
     "text": [
      "a b c d e f \n",
      "a c e f d b "
     ]
    }
   ],
   "source": [
    "gr.bfs(\"a\")\n",
    "print()\n",
    "gr.dfs(\"a\")"
   ]
  },
  {
   "cell_type": "code",
   "execution_count": 20,
   "metadata": {},
   "outputs": [
    {
     "data": {
      "text/plain": [
       "defaultdict(list,\n",
       "            {'A': ['C'],\n",
       "             'C': ['E'],\n",
       "             'E': ['H', 'F'],\n",
       "             'F': ['G'],\n",
       "             'B': ['D', 'C'],\n",
       "             'D': ['F']})"
      ]
     },
     "execution_count": 20,
     "metadata": {},
     "output_type": "execute_result"
    }
   ],
   "source": [
    "customGraph = Graph(8)\n",
    "customGraph.addEdge(\"A\",\"C\")\n",
    "customGraph.addEdge(\"C\",\"E\")\n",
    "customGraph.addEdge(\"E\",\"H\")\n",
    "customGraph.addEdge(\"E\",\"F\")\n",
    "customGraph.addEdge(\"F\",\"G\")\n",
    "customGraph.addEdge(\"B\",\"D\")\n",
    "customGraph.addEdge(\"B\",\"C\")\n",
    "customGraph.addEdge(\"D\",\"F\")\n",
    "customGraph.gdict"
   ]
  },
  {
   "cell_type": "code",
   "execution_count": 21,
   "metadata": {},
   "outputs": [
    {
     "name": "stdout",
     "output_type": "stream",
     "text": [
      "['B', 'D', 'A', 'C', 'E', 'F', 'G', 'H']\n"
     ]
    }
   ],
   "source": [
    "customGraph.topologocal_sort()"
   ]
  },
  {
   "cell_type": "code",
   "execution_count": 22,
   "metadata": {},
   "outputs": [
    {
     "name": "stdout",
     "output_type": "stream",
     "text": [
      "['a', 'c', 'b', 'd', 'e', 'f']\n"
     ]
    }
   ],
   "source": [
    "gr.topologocal_sort()"
   ]
  },
  {
   "cell_type": "code",
   "execution_count": 23,
   "metadata": {},
   "outputs": [
    {
     "data": {
      "text/plain": [
       "defaultdict(list,\n",
       "            {'a': ['b', 'c'],\n",
       "             'b': ['d', 'g'],\n",
       "             'c': ['d', 'e'],\n",
       "             'd': ['f'],\n",
       "             'e': ['f'],\n",
       "             'g': ['f']})"
      ]
     },
     "execution_count": 23,
     "metadata": {},
     "output_type": "execute_result"
    }
   ],
   "source": [
    "ssDict = {    \"a\" : [\"b\",\"c\"],\n",
    "              \"b\" : [\"d\",\"g\"],\n",
    "              \"c\" : [\"d\",\"e\"],\n",
    "              \"d\" : [\"f\"],\n",
    "              \"e\" : [\"f\"],\n",
    "              \"g\" : [\"f\"]\n",
    "              }\n",
    "\n",
    "\n",
    "ssgr = Graph(6)\n",
    "\n",
    "for keys,values in ssDict.items():\n",
    "    for item in ssDict[keys]:\n",
    "        ssgr.addEdge(keys,item)\n",
    "    \n",
    "ssgr.gdict"
   ]
  },
  {
   "cell_type": "code",
   "execution_count": 26,
   "metadata": {},
   "outputs": [
    {
     "name": "stdout",
     "output_type": "stream",
     "text": [
      "['a', 'c', 'e']\n",
      "['a', 'c', 'e']\n"
     ]
    }
   ],
   "source": [
    "print(ssgr.bfss(\"a\",\"e\"))\n",
    "print(ssgr.bfss(\"a\",\"e\"))"
   ]
  },
  {
   "cell_type": "code",
   "execution_count": null,
   "metadata": {},
   "outputs": [],
   "source": []
  },
  {
   "cell_type": "code",
   "execution_count": null,
   "metadata": {},
   "outputs": [],
   "source": []
  }
 ],
 "metadata": {
  "kernelspec": {
   "display_name": "Python 3",
   "language": "python",
   "name": "python3"
  },
  "language_info": {
   "codemirror_mode": {
    "name": "ipython",
    "version": 3
   },
   "file_extension": ".py",
   "mimetype": "text/x-python",
   "name": "python",
   "nbconvert_exporter": "python",
   "pygments_lexer": "ipython3",
   "version": "3.9.13"
  },
  "orig_nbformat": 4
 },
 "nbformat": 4,
 "nbformat_minor": 2
}
